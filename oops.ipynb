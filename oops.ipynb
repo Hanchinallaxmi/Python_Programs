{
 "cells": [
  {
   "attachments": {},
   "cell_type": "markdown",
   "metadata": {},
   "source": [
    "OOPS CONCEPT"
   ]
  },
  {
   "cell_type": "code",
   "execution_count": 3,
   "metadata": {},
   "outputs": [
    {
     "name": "stdout",
     "output_type": "stream",
     "text": [
      "ON: False\n",
      "OFF: False\n",
      "False\n"
     ]
    }
   ],
   "source": [
    "class bulb:\n",
    "    ON =False\n",
    "    OFF =False\n",
    "    def status(self):\n",
    "        print(\"ON:\",self.OFF)\n",
    "        print(\"OFF:\",self.ON) \n",
    "\n",
    "obj = bulb()\n",
    "obj.status()\n",
    "print(obj.OFF)\n",
    "    "
   ]
  },
  {
   "cell_type": "code",
   "execution_count": 5,
   "metadata": {},
   "outputs": [
    {
     "name": "stdout",
     "output_type": "stream",
     "text": [
      "HI HELLO\n"
     ]
    }
   ],
   "source": [
    "class bulb:\n",
    "    ON =False\n",
    "    OFF =False\n",
    "    def status(self,ON,OFF):\n",
    "        print(\"ON:\",OFF)\n",
    "        print(\"OFF:\",ON) \n",
    "\n",
    "obj = bulb()\n",
    "print(\"HI\",\"HELLO\")\n",
    "    "
   ]
  },
  {
   "cell_type": "code",
   "execution_count": 1,
   "metadata": {},
   "outputs": [
    {
     "name": "stdout",
     "output_type": "stream",
     "text": [
      "ON: False\n",
      "OFF: True\n",
      "bulb is ON\n"
     ]
    },
    {
     "ename": "TypeError",
     "evalue": "bulb.__init__() missing 2 required positional arguments: 'status1' and 'status2'",
     "output_type": "error",
     "traceback": [
      "\u001b[1;31m---------------------------------------------------------------------------\u001b[0m",
      "\u001b[1;31mTypeError\u001b[0m                                 Traceback (most recent call last)",
      "Cell \u001b[1;32mIn[1], line 25\u001b[0m\n\u001b[0;32m     20\u001b[0m obj\u001b[39m.\u001b[39mstatus()\n\u001b[0;32m     21\u001b[0m obj\u001b[39m.\u001b[39mswith()\n\u001b[1;32m---> 25\u001b[0m obj \u001b[39m=\u001b[39m bulb()\n\u001b[0;32m     26\u001b[0m obj\u001b[39m.\u001b[39mstatus()\n\u001b[0;32m     27\u001b[0m \u001b[39mprint\u001b[39m(obj\u001b[39m.\u001b[39mOFF)\n",
      "\u001b[1;31mTypeError\u001b[0m: bulb.__init__() missing 2 required positional arguments: 'status1' and 'status2'"
     ]
    }
   ],
   "source": [
    "class bulb:\n",
    "    #attributes\n",
    "    ON =False\n",
    "    OFF =False\n",
    "\n",
    "    def __init__(self,status1,status2):\n",
    "        self.ON=status1\n",
    "        self.OFF=status2\n",
    "\n",
    "    #methods\n",
    "    def status(self):\n",
    "        print(\"ON:\",self.OFF)\n",
    "        print(\"OFF:\",self.ON) \n",
    "    def swith(self):\n",
    "       if self.ON==True:\n",
    "           print(\"bulb is ON\")\n",
    "       else:\n",
    "           print(\"bulb is OFF\")\n",
    "obj = bulb(True,False)\n",
    "obj.status()\n",
    "obj.swith()\n",
    "\n",
    "          \n",
    "\n",
    "obj = bulb()\n",
    "obj.status()\n",
    "print(obj.OFF)"
   ]
  },
  {
   "cell_type": "code",
   "execution_count": null,
   "metadata": {},
   "outputs": [],
   "source": [
    "class car:\n",
    "    wheels=4\n",
    "    seatingcapacity=\"\"\n",
    "    nameofthecar=\"\"\n",
    "    carmodel=\"\"\n",
    "    fueltype=\"\"\n",
    "    cc=\"\"\n",
    "    def __init__(self,wheels,seatingcapacity,nameofthecar,carmodel,fueltype,cc):\n",
    "        self.wheels=wheels\n",
    "        self.seatingcapacity=seatingcapacity\n",
    "        self.nameofthecar=nameofthecar\n",
    "        self.carmodel=carmodel\n",
    "        self.fueltype=fueltype\n",
    "        self.cc=cc\n",
    "    def cardetails(self):\n",
    "        print(\"cardeatils:self.wheels,self.seatingcapacity,self.nameofthecar,self.carmodel,self.fueltype,self.cc\")\n",
    "obj=car(5,\"maruti\",\"800\",\"petrol\",\"800\")\n",
    "obj.cardetails()"
   ]
  },
  {
   "cell_type": "code",
   "execution_count": 6,
   "metadata": {},
   "outputs": [
    {
     "name": "stdout",
     "output_type": "stream",
     "text": [
      "Area of Room = 1309.0\n"
     ]
    }
   ],
   "source": [
    "\n",
    "class Room:  # class\n",
    "    length = 0.0\n",
    "    breadth = 0.0  # objects\n",
    "    def calculate_area(self):\n",
    "        print(\"Area of Room =\", self.length * self.breadth)\n",
    "\n",
    "study_room = Room()\n",
    "study_room.length = 42.5\n",
    "study_room.breadth = 30.8\n",
    "\n",
    "study_room.calculate_area()"
   ]
  },
  {
   "cell_type": "code",
   "execution_count": 10,
   "metadata": {},
   "outputs": [
    {
     "name": "stdout",
     "output_type": "stream",
     "text": [
      "Hii, my name is laxmi\n"
     ]
    }
   ],
   "source": [
    "\n",
    "class Person: # class is person\n",
    "    def __init__(self, name): # constructor\n",
    "        self.name = name\n",
    "    def say_hi(self):  \n",
    "        print('Hii, my name is', self.name) # printing\n",
    " \n",
    " \n",
    "p = Person('laxmi')\n",
    "p.say_hi()"
   ]
  },
  {
   "cell_type": "code",
   "execution_count": 12,
   "metadata": {},
   "outputs": [
    {
     "name": "stdout",
     "output_type": "stream",
     "text": [
      "Student name is : laxmi\n",
      "Student age is :  19\n"
     ]
    }
   ],
   "source": [
    "\n",
    "class Student: #class\n",
    "    def Print(self, name, age):\n",
    "        print(\"The name of student is:\", name) # printing\n",
    "        print(\"The age of student is : \", age)\n",
    "student = Student() # object is student\n",
    "student.Print(\"laxmi\", 19) #print statement"
   ]
  },
  {
   "cell_type": "code",
   "execution_count": 15,
   "metadata": {},
   "outputs": [
    {
     "name": "stdout",
     "output_type": "stream",
     "text": [
      "The name of chacolate is: Dairymilk\n",
      "The name of chacolate is :  kitkat\n",
      "The name of chacolate is :  melody\n"
     ]
    }
   ],
   "source": [
    "\n",
    "class chacolate: # class is chacolate\n",
    "    dairymilk=10\n",
    "    kitkat=38    # objects\n",
    "    melody=14\n",
    "    def Print(self, dairymilk, kitkat,melody): # constructer\n",
    "        \n",
    "        print(\"The name of chacolate is:\", dairymilk) # printing\n",
    "        print(\"The name of chacolate is : \", kitkat)\n",
    "        print(\"The name of chacolate is : \", melody)\n",
    "\n",
    "chacolate = chacolate() # call functin\n",
    "chacolate.Print(\"Dairymilk\",\"kitkat\",\"melody\") # print"
   ]
  },
  {
   "cell_type": "code",
   "execution_count": 25,
   "metadata": {},
   "outputs": [
    {
     "name": "stdout",
     "output_type": "stream",
     "text": [
      "Cloth = Cotton\n",
      "Type = T-Shirt\n"
     ]
    }
   ],
   "source": [
    "class Dress:  # dress is class\n",
    "   def __init__(self):\n",
    "       self.cloth = \"Cotton\" # objects\n",
    "       self.type = \"T-Shirt\"\n",
    "   def get_details(self): # here useing get method\n",
    "       return f\"Cloth = {self.cloth}\\nType = {self.type}\"\n",
    "t_shirt = Dress()\n",
    "print(t_shirt.get_details()) # print"
   ]
  },
  {
   "cell_type": "code",
   "execution_count": 7,
   "metadata": {},
   "outputs": [
    {
     "name": "stdout",
     "output_type": "stream",
     "text": [
      "no fuel available.\n"
     ]
    }
   ],
   "source": [
    "class truck:\n",
    "    seat =2\n",
    "    tyre=6\n",
    "    fuel=\"d\"\n",
    "    carrier='goods'\n",
    "    fuelstate=\"True\"\n",
    "    def drive(self):\n",
    "        if self.fuelstate == True:\n",
    "            print(\"ready to drive,fuel available.\")\n",
    "        else:\n",
    "            print(\"no fuel available.\")\n",
    "    def __init__(self):\n",
    "        self.seat = 4\n",
    "        self.tyre = 6\n",
    "        self.fuel =\"petrol\"\n",
    "        self.carrier =\"frozen good\"\n",
    "        self.fuelstate = True\n",
    "    def __init__(self,seat,tyre):\n",
    "        self.seat = seat\n",
    "        self.tyre = tyre\n",
    "        self.fuel =\"petrol\"\n",
    "        self.carrier =\"frozen good\"\n",
    "        self.fuelstate = False\n",
    "obj = truck(4,8)\n",
    "obj.drive()\n"
   ]
  },
  {
   "cell_type": "code",
   "execution_count": 16,
   "metadata": {},
   "outputs": [
    {
     "ename": "TypeError",
     "evalue": "student.__init__() missing 5 required positional arguments: 'name', 'rollnumber', 'marks1', 'marks2', and 'marks3'",
     "output_type": "error",
     "traceback": [
      "\u001b[1;31m---------------------------------------------------------------------------\u001b[0m",
      "\u001b[1;31mTypeError\u001b[0m                                 Traceback (most recent call last)",
      "Cell \u001b[1;32mIn[16], line 13\u001b[0m\n\u001b[0;32m     11\u001b[0m         \u001b[39mself\u001b[39m\u001b[39m.\u001b[39mmarks2\u001b[39m=\u001b[39m\u001b[39m\"\u001b[39m\u001b[39m86\u001b[39m\u001b[39m\"\u001b[39m\n\u001b[0;32m     12\u001b[0m         \u001b[39mself\u001b[39m\u001b[39m.\u001b[39mmarks\u001b[39m=\u001b[39m\u001b[39m\"\u001b[39m\u001b[39m88\u001b[39m\u001b[39m\"\u001b[39m\n\u001b[1;32m---> 13\u001b[0m obj \u001b[39m=\u001b[39m student()        \n\u001b[0;32m     14\u001b[0m obj\u001b[39m.\u001b[39mstudent(laxmi,\u001b[39m2\u001b[39m,\u001b[39m80\u001b[39m,\u001b[39m86\u001b[39m,\u001b[39m88\u001b[39m)\n",
      "\u001b[1;31mTypeError\u001b[0m: student.__init__() missing 5 required positional arguments: 'name', 'rollnumber', 'marks1', 'marks2', and 'marks3'"
     ]
    }
   ],
   "source": [
    "class student:\n",
    "    name =\"laxmi\"\n",
    "    rollnumber =\"2\"\n",
    "    marks1=\"80\"\n",
    "    marks2 =\"86\"\n",
    "    marks3 =\"88\"\n",
    "    def __studentinformation__(self,name,rollnumber,marks1,marks2,marks3):\n",
    "        self.studentname = \"laxmi\"\n",
    "        self.rollnumber = \"2\"\n",
    "        self.marks1 =\"80\"\n",
    "        self.marks2=\"86\"\n",
    "        self.marks=\"88\"\n",
    "obj = student()         \n",
    "obj.marks()\n",
    "\n"
   ]
  },
  {
   "cell_type": "code",
   "execution_count": null,
   "metadata": {},
   "outputs": [],
   "source": [
    "class parent:\n",
    "    def __init__(self):\n",
    "        self.a =\"python\"\n",
    "        self.__c=\"programming\"\n",
    "class child(parent):\n",
    "    def __init__(self):\n",
    "        parent.init__(self)\n",
    "        print(self.__c)\n",
    "obj1=child()\n",
    "print(obj1.__c)\n",
    "    "
   ]
  },
  {
   "attachments": {},
   "cell_type": "markdown",
   "metadata": {},
   "source": [
    "INHERITANCE"
   ]
  },
  {
   "cell_type": "code",
   "execution_count": null,
   "metadata": {},
   "outputs": [],
   "source": [
    "class base():\n",
    "    a=10\n",
    "class derive(base):\n",
    "    b=20\n",
    "    def add(self):\n",
    "        c=self.a+self.b\n",
    "        print(\"sum:\",c)\n",
    "obj=derive()\n",
    "obj1.add()"
   ]
  },
  {
   "attachments": {},
   "cell_type": "markdown",
   "metadata": {},
   "source": [
    "pass"
   ]
  },
  {
   "cell_type": "code",
   "execution_count": null,
   "metadata": {},
   "outputs": [],
   "source": [
    "class pass_class():\n",
    "    def __pass_func(self,):\n",
    "        if 20>10:\n",
    "            pass\n",
    "obj1=pass_class()\n",
    "obj1.__pass_func()"
   ]
  },
  {
   "cell_type": "code",
   "execution_count": null,
   "metadata": {},
   "outputs": [],
   "source": []
  },
  {
   "cell_type": "code",
   "execution_count": null,
   "metadata": {},
   "outputs": [],
   "source": [
    "from abc import ABC,abstracmethod\n",
    "class polygon(ABC):\n",
    "    \n",
    "    def noofsides(self):\n",
    "        pass\n",
    "class triangle(polygon):\n",
    "    def noofsides(self):\n",
    "        return super().noofsides()\n",
    "obj1=triangle()\n",
    "obj1.sides()\n",
    "    \n",
    "    \n",
    "\n",
    "\n",
    "\n"
   ]
  },
  {
   "attachments": {},
   "cell_type": "markdown",
   "metadata": {},
   "source": [
    "MODULE 3"
   ]
  },
  {
   "cell_type": "code",
   "execution_count": 2,
   "metadata": {},
   "outputs": [
    {
     "data": {
      "text/plain": [
       "3.5"
      ]
     },
     "execution_count": 2,
     "metadata": {},
     "output_type": "execute_result"
    }
   ],
   "source": [
    "import statistics as st\n",
    "li =[1,2,3,4,5,6]\n",
    "st.mean(li)"
   ]
  },
  {
   "cell_type": "code",
   "execution_count": 6,
   "metadata": {},
   "outputs": [
    {
     "data": {
      "text/plain": [
       "25.0"
      ]
     },
     "execution_count": 6,
     "metadata": {},
     "output_type": "execute_result"
    }
   ],
   "source": [
    "import statistics as st\n",
    "li =[10,20,30,40]\n",
    "st.median(li)"
   ]
  },
  {
   "cell_type": "code",
   "execution_count": 8,
   "metadata": {},
   "outputs": [
    {
     "data": {
      "text/plain": [
       "20"
      ]
     },
     "execution_count": 8,
     "metadata": {},
     "output_type": "execute_result"
    }
   ],
   "source": [
    "import statistics as st\n",
    "li =[10,20,20,20,30,40,40,40,50]\n",
    "st.mode(li)"
   ]
  },
  {
   "cell_type": "code",
   "execution_count": null,
   "metadata": {},
   "outputs": [],
   "source": [
    "import pandas as pd\n",
    "import matplotlib.pyplot as plt"
   ]
  }
 ],
 "metadata": {
  "kernelspec": {
   "display_name": "Python 3",
   "language": "python",
   "name": "python3"
  },
  "language_info": {
   "codemirror_mode": {
    "name": "ipython",
    "version": 3
   },
   "file_extension": ".py",
   "mimetype": "text/x-python",
   "name": "python",
   "nbconvert_exporter": "python",
   "pygments_lexer": "ipython3",
   "version": "3.11.2"
  },
  "orig_nbformat": 4
 },
 "nbformat": 4,
 "nbformat_minor": 2
}
