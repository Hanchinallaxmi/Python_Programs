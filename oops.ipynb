{
 "cells": [
  {
   "attachments": {},
   "cell_type": "markdown",
   "metadata": {},
   "source": [
    "OOPS CONCEPT"
   ]
  },
  {
   "cell_type": "code",
   "execution_count": 3,
   "metadata": {},
   "outputs": [
    {
     "name": "stdout",
     "output_type": "stream",
     "text": [
      "ON: False\n",
      "OFF: False\n",
      "False\n"
     ]
    }
   ],
   "source": [
    "class bulb:\n",
    "    ON =False\n",
    "    OFF =False\n",
    "    def status(self):\n",
    "        print(\"ON:\",self.OFF)\n",
    "        print(\"OFF:\",self.ON) \n",
    "\n",
    "obj = bulb()\n",
    "obj.status()\n",
    "print(obj.OFF)\n",
    "    "
   ]
  },
  {
   "cell_type": "code",
   "execution_count": 5,
   "metadata": {},
   "outputs": [
    {
     "name": "stdout",
     "output_type": "stream",
     "text": [
      "HI HELLO\n"
     ]
    }
   ],
   "source": [
    "class bulb:\n",
    "    ON =False\n",
    "    OFF =False\n",
    "    def status(self,ON,OFF):\n",
    "        print(\"ON:\",OFF)\n",
    "        print(\"OFF:\",ON) \n",
    "\n",
    "obj = bulb()\n",
    "print(\"HI\",\"HELLO\")\n",
    "    "
   ]
  },
  {
   "cell_type": "code",
   "execution_count": 3,
   "metadata": {},
   "outputs": [
    {
     "name": "stdout",
     "output_type": "stream",
     "text": [
      "ON: False\n",
      "OFF: True\n",
      "bulb is ON\n"
     ]
    },
    {
     "ename": "TypeError",
     "evalue": "bulb.__init__() missing 2 required positional arguments: 'status1' and 'status2'",
     "output_type": "error",
     "traceback": [
      "\u001b[1;31m---------------------------------------------------------------------------\u001b[0m",
      "\u001b[1;31mTypeError\u001b[0m                                 Traceback (most recent call last)",
      "Cell \u001b[1;32mIn[3], line 25\u001b[0m\n\u001b[0;32m     20\u001b[0m obj\u001b[39m.\u001b[39mstatus()\n\u001b[0;32m     21\u001b[0m obj\u001b[39m.\u001b[39mswith()\n\u001b[1;32m---> 25\u001b[0m obj \u001b[39m=\u001b[39m bulb()\n\u001b[0;32m     26\u001b[0m obj\u001b[39m.\u001b[39mstatus()\n\u001b[0;32m     27\u001b[0m \u001b[39mprint\u001b[39m(obj\u001b[39m.\u001b[39mOFF)\n",
      "\u001b[1;31mTypeError\u001b[0m: bulb.__init__() missing 2 required positional arguments: 'status1' and 'status2'"
     ]
    }
   ],
   "source": [
    "class bulb:\n",
    "    #attributes\n",
    "    ON =False\n",
    "    OFF =False\n",
    "\n",
    "    def __init__(self,status1,status2):\n",
    "        self.ON=status1\n",
    "        self.OFF=status2\n",
    "\n",
    "    #methods\n",
    "    def status(self):\n",
    "        print(\"ON:\",self.OFF)\n",
    "        print(\"OFF:\",self.ON) \n",
    "    def swith(self):\n",
    "       if self.ON==True:\n",
    "           print(\"bulb is ON\")\n",
    "       else:\n",
    "           print(\"bulb is OFF\")\n",
    "obj = bulb(True,False)\n",
    "obj.status()\n",
    "obj.swith()\n",
    "\n",
    "          \n",
    "\n",
    "obj = bulb()\n",
    "obj.status()\n",
    "print(obj.OFF)"
   ]
  },
  {
   "cell_type": "code",
   "execution_count": null,
   "metadata": {},
   "outputs": [],
   "source": [
    "class car:\n",
    "    wheels=4\n",
    "    seatingcapacity=\"\"\n",
    "    nameofthecar=\"\"\n",
    "    carmodel=\"\"\n",
    "    fueltype=\"\"\n",
    "    cc=\"\"\n",
    "    def __init__(self,wheels,seatingcapacity,nameofthecar,carmodel,fueltype,cc):\n",
    "        self.wheels=wheels\n",
    "        self.seatingcapacity=seatingcapacity\n",
    "        self.nameofthecar=nameofthecar\n",
    "        self.carmodel=carmodel\n",
    "        self.fueltype=fueltype\n",
    "        self.cc=cc\n",
    "    def cardetails(self):\n",
    "        print(\"cardeatils:self.wheels,self.seatingcapacity,self.nameofthecar,self.carmodel,self.fueltype,self.cc\")\n",
    "obj=car(5,\"maruti\",\"800\",\"petrol\",\"800\")\n",
    "obj.cardetails()"
   ]
  },
  {
   "cell_type": "code",
   "execution_count": 6,
   "metadata": {},
   "outputs": [
    {
     "name": "stdout",
     "output_type": "stream",
     "text": [
      "Area of Room = 1309.0\n"
     ]
    }
   ],
   "source": [
    "\n",
    "class Room:  # class\n",
    "    length = 0.0\n",
    "    breadth = 0.0  # objects\n",
    "    def calculate_area(self):\n",
    "        print(\"Area of Room =\", self.length * self.breadth)\n",
    "\n",
    "study_room = Room()\n",
    "study_room.length = 42.5\n",
    "study_room.breadth = 30.8\n",
    "\n",
    "study_room.calculate_area()"
   ]
  },
  {
   "cell_type": "code",
   "execution_count": 10,
   "metadata": {},
   "outputs": [
    {
     "name": "stdout",
     "output_type": "stream",
     "text": [
      "Hii, my name is laxmi\n"
     ]
    }
   ],
   "source": [
    "\n",
    "class Person: # class is person\n",
    "    def __init__(self, name): # constructor\n",
    "        self.name = name\n",
    "    def say_hi(self):  \n",
    "        print('Hii, my name is', self.name) # printing\n",
    " \n",
    " \n",
    "p = Person('laxmi')\n",
    "p.say_hi()"
   ]
  },
  {
   "cell_type": "code",
   "execution_count": 12,
   "metadata": {},
   "outputs": [
    {
     "name": "stdout",
     "output_type": "stream",
     "text": [
      "Student name is : laxmi\n",
      "Student age is :  19\n"
     ]
    }
   ],
   "source": [
    "\n",
    "class Student: #class\n",
    "    def Print(self, name, age):\n",
    "        print(\"The name of student is:\", name) # printing\n",
    "        print(\"The age of student is : \", age)\n",
    "student = Student() # object is student\n",
    "student.Print(\"laxmi\", 19) #print statement"
   ]
  },
  {
   "cell_type": "code",
   "execution_count": 15,
   "metadata": {},
   "outputs": [
    {
     "name": "stdout",
     "output_type": "stream",
     "text": [
      "The name of chacolate is: Dairymilk\n",
      "The name of chacolate is :  kitkat\n",
      "The name of chacolate is :  melody\n"
     ]
    }
   ],
   "source": [
    "\n",
    "class chacolate: # class is chacolate\n",
    "    dairymilk=10\n",
    "    kitkat=38    # objects\n",
    "    melody=14\n",
    "    def Print(self, dairymilk, kitkat,melody): # constructer\n",
    "        \n",
    "        print(\"The name of chacolate is:\", dairymilk) # printing\n",
    "        print(\"The name of chacolate is : \", kitkat)\n",
    "        print(\"The name of chacolate is : \", melody)\n",
    "\n",
    "chacolate = chacolate() # call functin\n",
    "chacolate.Print(\"Dairymilk\",\"kitkat\",\"melody\") # print"
   ]
  },
  {
   "cell_type": "code",
   "execution_count": 25,
   "metadata": {},
   "outputs": [
    {
     "name": "stdout",
     "output_type": "stream",
     "text": [
      "Cloth = Cotton\n",
      "Type = T-Shirt\n"
     ]
    }
   ],
   "source": [
    "class Dress:\n",
    "   def __init__(self):\n",
    "       self.cloth = \"Cotton\"\n",
    "       self.type = \"T-Shirt\"\n",
    "   def get_details(self):\n",
    "       return f\"Cloth = {self.cloth}\\nType = {self.type}\"\n",
    "t_shirt = Dress()\n",
    "print(t_shirt.get_details())"
   ]
  },
  {
   "cell_type": "code",
   "execution_count": null,
   "metadata": {},
   "outputs": [],
   "source": []
  }
 ],
 "metadata": {
  "kernelspec": {
   "display_name": "Python 3",
   "language": "python",
   "name": "python3"
  },
  "language_info": {
   "codemirror_mode": {
    "name": "ipython",
    "version": 3
   },
   "file_extension": ".py",
   "mimetype": "text/x-python",
   "name": "python",
   "nbconvert_exporter": "python",
   "pygments_lexer": "ipython3",
   "version": "3.11.2"
  },
  "orig_nbformat": 4
 },
 "nbformat": 4,
 "nbformat_minor": 2
}
