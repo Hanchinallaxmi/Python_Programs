{
 "cells": [
  {
   "cell_type": "code",
   "execution_count": null,
   "metadata": {},
   "outputs": [],
   "source": [
    "names=['a','b','c']\n",
    "grades=[1,2,3,4,5,6]\n",
    "\n",
    "\n",
    "\n",
    "#1st code\n",
    "fd=open(r\"a.txt\",\"w\")\n",
    "for i in range(5):\n",
    "    record=names[i] +str(\" \")+str(grades[i])+str(\"\\n\")\n",
    "    val=fd.write(record)\n",
    "fd.close()\n",
    "\n",
    "#2nd code\n",
    "fd=open(r\"a.txt\",\"r\")\n",
    "file_data=fd.readlines()\n",
    "print(file_data)\n",
    "fd.close()"
   ]
  }
 ],
 "metadata": {
  "language_info": {
   "name": "python"
  },
  "orig_nbformat": 4
 },
 "nbformat": 4,
 "nbformat_minor": 2
}
