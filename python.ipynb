{
 "cells": [
  {
   "attachments": {},
   "cell_type": "markdown",
   "metadata": {},
   "source": [
    "Assignment:1"
   ]
  },
  {
   "cell_type": "code",
   "execution_count": 1,
   "metadata": {},
   "outputs": [
    {
     "name": "stdout",
     "output_type": "stream",
     "text": [
      "area of circle = 113.040000\n"
     ]
    }
   ],
   "source": [
    "def findarea(r):\n",
    "    pi=3.14\n",
    "    return pi*(r*r);d\n",
    "print(\"area of circle = %.6f\" % findarea(6));\n"
   ]
  },
  {
   "attachments": {},
   "cell_type": "markdown",
   "metadata": {},
   "source": [
    "Assignment:2"
   ]
  },
  {
   "cell_type": "code",
   "execution_count": 2,
   "metadata": {},
   "outputs": [
    {
     "name": "stdout",
     "output_type": "stream",
     "text": [
      "10\n",
      "5\n"
     ]
    }
   ],
   "source": [
    "a=5\n",
    "b=10\n",
    "a,b = b,a\n",
    "print(a)\n",
    "print(b)"
   ]
  },
  {
   "attachments": {},
   "cell_type": "markdown",
   "metadata": {},
   "source": [
    "Assignment:3"
   ]
  },
  {
   "cell_type": "code",
   "execution_count": 3,
   "metadata": {},
   "outputs": [
    {
     "name": "stdout",
     "output_type": "stream",
     "text": [
      "[4]\n",
      "[8, 9, 7, 5, 1]\n"
     ]
    }
   ],
   "source": [
    "import random\n",
    "a=random.sample(range(1,10),1)\n",
    "print(a)\n",
    "lst=random.sample(range(1,10),5)\n",
    "print(lst)"
   ]
  },
  {
   "attachments": {},
   "cell_type": "markdown",
   "metadata": {},
   "source": [
    "Assignment:4"
   ]
  },
  {
   "cell_type": "code",
   "execution_count": 4,
   "metadata": {},
   "outputs": [
    {
     "name": "stdout",
     "output_type": "stream",
     "text": [
      "the length miles is 12.43\n"
     ]
    }
   ],
   "source": [
    "kms =int(input(\"enter length in kms:\"))\n",
    "miles =kms/1.609\n",
    "print(\"the length miles is\",round(miles,3))"
   ]
  },
  {
   "attachments": {},
   "cell_type": "markdown",
   "metadata": {},
   "source": [
    "Assignment:5"
   ]
  },
  {
   "cell_type": "code",
   "execution_count": 5,
   "metadata": {},
   "outputs": [
    {
     "name": "stdout",
     "output_type": "stream",
     "text": [
      "17 is a odd number\n"
     ]
    }
   ],
   "source": [
    "def evenodd(num):\n",
    "    if num%2==0:\n",
    "        print(num,\"is a even number\")\n",
    "    else:\n",
    "        print(num,\"is a odd number\")\n",
    "evenodd(17)  \n",
    "\n",
    "\n"
   ]
  },
  {
   "attachments": {},
   "cell_type": "markdown",
   "metadata": {},
   "source": [
    "Assignment:6"
   ]
  },
  {
   "cell_type": "code",
   "execution_count": 6,
   "metadata": {},
   "outputs": [
    {
     "name": "stdout",
     "output_type": "stream",
     "text": [
      "33 is aprime number\n",
      "33 is not prime number\n"
     ]
    }
   ],
   "source": [
    "number = int (input(\"enter any number:\"))\n",
    "if number>1:\n",
    "    for i in range(2,number):\n",
    "        if (number%i)==0:\n",
    "            print(number,\"is not prime number\")\n",
    "            break\n",
    "        else:\n",
    "            print(number,\"is aprime number\")\n",
    "    else:\n",
    "        print(number,\"is not a prime number\")"
   ]
  },
  {
   "attachments": {},
   "cell_type": "markdown",
   "metadata": {},
   "source": [
    "Assignment:7"
   ]
  },
  {
   "cell_type": "code",
   "execution_count": 7,
   "metadata": {},
   "outputs": [
    {
     "name": "stdout",
     "output_type": "stream",
     "text": [
      "the number is positive.\n"
     ]
    }
   ],
   "source": [
    "number=int(input(\"enter a number\"))\n",
    "if number<0:\n",
    "    print(\"the number is negative.\")\n",
    "elif number>0:\n",
    "    print(\"the number is positive.\")\n",
    "elif number==0:\n",
    "    print(\"number is zero.\")\n",
    "else:\n",
    "    print(\"the input is not a number\")\n"
   ]
  },
  {
   "attachments": {},
   "cell_type": "markdown",
   "metadata": {},
   "source": [
    "Assignment:8"
   ]
  },
  {
   "cell_type": "code",
   "execution_count": 13,
   "metadata": {},
   "outputs": [],
   "source": [
    "for i in range(2,101):\n",
    "    for j in range(2,101):\n",
    "        if i%j ==0:\n",
    "            break\n",
    "        if i==j:\n",
    "            print(i,end=\",\")\n",
    "            "
   ]
  },
  {
   "attachments": {},
   "cell_type": "markdown",
   "metadata": {},
   "source": [
    "Assignment:9"
   ]
  },
  {
   "cell_type": "code",
   "execution_count": 19,
   "metadata": {},
   "outputs": [],
   "source": [
    "def factorial(num):\n",
    "    if num == 1:\n",
    "        return num\n",
    "    else:\n",
    "        return num*factorial(num-1)\n",
    "    num=int(input(\"enter a number:\"))\n",
    "    if num<0:\n",
    "        print(\"factorial cannot be found for negative numbers\")\n",
    "    elif num==0:\n",
    "        print(\"factorial of 0 is 1\")\n",
    "    else:\n",
    "        print(\"factorial of\",num,\"is:\",factorial(num))\n",
    "    "
   ]
  },
  {
   "attachments": {},
   "cell_type": "markdown",
   "metadata": {},
   "source": [
    "Assignment:10"
   ]
  },
  {
   "cell_type": "code",
   "execution_count": 20,
   "metadata": {},
   "outputs": [
    {
     "name": "stdout",
     "output_type": "stream",
     "text": [
      "enter a number (numerator): \n",
      "enter a number (denominator): \n",
      "\n",
      "16is not divisible by350\n"
     ]
    }
   ],
   "source": [
    "print(\"enter a number (numerator): \")\n",
    "numn = int(input())\n",
    "print(\"enter a number (denominator): \")\n",
    "numd = int(input())\n",
    "\n",
    "if numn%numd==0:\n",
    "    print(\"\\n\" +str(numn)+ \"is divisible by\" +str(numd))\n",
    "else:\n",
    "    print(\"\\n\" +str(numn)+ \"is not divisible by\" +str(numd))"
   ]
  },
  {
   "attachments": {},
   "cell_type": "markdown",
   "metadata": {},
   "source": [
    "Assignment:11"
   ]
  },
  {
   "cell_type": "code",
   "execution_count": 21,
   "metadata": {},
   "outputs": [
    {
     "name": "stdout",
     "output_type": "stream",
     "text": [
      "10 decimal = 0b1010 binary value\n",
      "10 decimal = 0o12 octal value\n",
      "10 decimal = 0xa hexadecimal value\n"
     ]
    }
   ],
   "source": [
    "decimal = int(input(\"please enter the decimal number =\"))\n",
    "binary = bin(decimal)\n",
    "octal = oct(decimal)\n",
    "hexadecimal = hex(decimal)\n",
    "\n",
    "print(decimal,\"decimal =\",binary,\"binary value\")\n",
    "print(decimal,\"decimal =\",octal,\"octal value\")\n",
    "print(decimal,\"decimal =\",hexadecimal,\"hexadecimal value\")\n"
   ]
  },
  {
   "attachments": {},
   "cell_type": "markdown",
   "metadata": {},
   "source": [
    "Assignment:12"
   ]
  },
  {
   "cell_type": "code",
   "execution_count": 22,
   "metadata": {},
   "outputs": [
    {
     "name": "stdout",
     "output_type": "stream",
     "text": [
      "the ascii value =50\n"
     ]
    }
   ],
   "source": [
    "ch = input(\"plese enter any chapter : \")\n",
    "print(\"the ascii value =%d\" %ord(ch[0]))"
   ]
  },
  {
   "attachments": {},
   "cell_type": "markdown",
   "metadata": {},
   "source": [
    "Assignment:13"
   ]
  },
  {
   "cell_type": "code",
   "execution_count": 23,
   "metadata": {},
   "outputs": [
    {
     "name": "stdout",
     "output_type": "stream",
     "text": [
      "result of a given 50 are :\n",
      "1\n",
      "2\n",
      "5\n",
      "10\n",
      "25\n",
      "50\n"
     ]
    }
   ],
   "source": [
    "val = int(input(\"please enter any value:\"))\n",
    "print(\"result of a given {0} are :\".format(val))\n",
    "for i in range (1, val + 1):\n",
    "    if(val%i == 0):\n",
    "        print(\"{0}\".format(i))"
   ]
  },
  {
   "attachments": {},
   "cell_type": "markdown",
   "metadata": {},
   "source": [
    "Assignment:14"
   ]
  },
  {
   "cell_type": "code",
   "execution_count": 24,
   "metadata": {},
   "outputs": [
    {
     "name": "stdout",
     "output_type": "stream",
     "text": [
      "result of a given 430 are :\n",
      "1\n",
      "2\n",
      "5\n",
      "10\n",
      "43\n",
      "86\n",
      "215\n",
      "430\n"
     ]
    }
   ],
   "source": [
    "val = int(input(\"please enter any value:\"))\n",
    "print(\"result of a given {0} are :\".format(val))\n",
    "for i in range (1, val + 1):\n",
    "    if(val%i == 0):\n",
    "        print(\"{0}\".format(i))"
   ]
  },
  {
   "attachments": {},
   "cell_type": "markdown",
   "metadata": {},
   "source": [
    "Assignment:15"
   ]
  },
  {
   "cell_type": "code",
   "execution_count": 28,
   "metadata": {},
   "outputs": [],
   "source": [
    "val1=int(input(\"enter the value  1:\"))\n",
    "val2=int(input(\"enter the value  2:\"))\n",
    "opr=input(\"enter the operator ..(+,-,*,/)\")\n",
    "if opr ==\"+\":\n",
    "    print(val1+val2)\n",
    "elif opr ==\"-\":\n",
    "    print(val1-val2)\n",
    "elif opr ==\"*\":\n",
    "    print(val1*val2)\n",
    "elif opr ==\"/\":\n",
    "    print(val1/val2)\n",
    "else:\n",
    "    print(\"wrong input,program terminated\")\n",
    "\n"
   ]
  },
  {
   "attachments": {},
   "cell_type": "markdown",
   "metadata": {},
   "source": [
    "Assignment:16"
   ]
  },
  {
   "cell_type": "code",
   "execution_count": 2,
   "metadata": {},
   "outputs": [
    {
     "name": "stdout",
     "output_type": "stream",
     "text": [
      "[[2, 1, 3], [3, 1, 5]]\n",
      "[[2, 3], [1, 1], [3, 5]]\n"
     ]
    },
    {
     "data": {
      "text/plain": [
       "[[2, 3], [1, 1], [3, 5]]"
      ]
     },
     "execution_count": 2,
     "metadata": {},
     "output_type": "execute_result"
    }
   ],
   "source": [
    "m = [[2,1,3] ,[3,1,5]]\n",
    "trans_m =[[m[j][i] for  j in range(len(m))] for i in range(len(m[0]))]\n",
    "print(m)\n",
    "[[2,1,3],[3,1,5]]\n",
    "print(trans_m)\n",
    "[[2,3],[1,1] ,[3,5]]"
   ]
  },
  {
   "attachments": {},
   "cell_type": "markdown",
   "metadata": {},
   "source": [
    "Assignment:17"
   ]
  },
  {
   "cell_type": "code",
   "execution_count": 16,
   "metadata": {},
   "outputs": [
    {
     "name": "stdout",
     "output_type": "stream",
     "text": [
      "[90, 96, 102]\n",
      "[216, 231, 246]\n",
      "[342, 366, 390]\n"
     ]
    }
   ],
   "source": [
    "mat1 =[[1,2,3],\n",
    "       [4,5,6],\n",
    "       [7,8,9]]\n",
    "mat2 =[[11,12,13],\n",
    "       [14,15,16],\n",
    "       [17,18,19]]\n",
    "result =[[0,0,0],\n",
    "         [0,0,0],\n",
    "         [0,0,0]]\n",
    "for i in range(len(mat1)):\n",
    "    for j in range (len(mat2[0])):\n",
    "        for k in range(len(mat2)):\n",
    "            result[i][j] +=mat1[i][k]* mat2[k][j]\n",
    "for r in result:\n",
    "    print(r)   "
   ]
  },
  {
   "attachments": {},
   "cell_type": "markdown",
   "metadata": {},
   "source": [
    "Assignment:18"
   ]
  },
  {
   "cell_type": "code",
   "execution_count": 17,
   "metadata": {},
   "outputs": [
    {
     "name": "stdout",
     "output_type": "stream",
     "text": [
      "this is not palindrome string\n"
     ]
    }
   ],
   "source": [
    "st = input(\"please enter your own text:\")\n",
    "if(st == st[:: -1]):\n",
    "    print(\"this is a palindrome string\")\n",
    "else:\n",
    "    print(\"this is not palindrome string\")"
   ]
  },
  {
   "attachments": {},
   "cell_type": "markdown",
   "metadata": {},
   "source": [
    "Assignment:19"
   ]
  },
  {
   "cell_type": "code",
   "execution_count": 18,
   "metadata": {},
   "outputs": [
    {
     "name": "stdout",
     "output_type": "stream",
     "text": [
      "__the pyramid of number pattern__\n",
      "1\n",
      "22\n",
      "333\n",
      "4444\n",
      "55555\n",
      "666666\n",
      "7777777\n",
      "88888888\n",
      "999999999\n",
      "10101010101010101010\n"
     ]
    }
   ],
   "source": [
    "rows = int(input(\"enter numbers pyramid pattern rows = \"))\n",
    "print(\"__the pyramid of number pattern__\")\n",
    "for i in range(1,rows + 1):\n",
    "    for j in range(rows , i,-1):\n",
    "        print(end ='')\n",
    "    for k in range(1,i+1):\n",
    "        print(i,end='')\n",
    "    print()"
   ]
  },
  {
   "attachments": {},
   "cell_type": "markdown",
   "metadata": {},
   "source": [
    "Assignment:20"
   ]
  },
  {
   "cell_type": "code",
   "execution_count": 20,
   "metadata": {},
   "outputs": [
    {
     "name": "stdout",
     "output_type": "stream",
     "text": [
      "first dictionary: {'a': 'apple', 'b': 'banana', 'o': 'orange'}\n",
      "second dictionary: {'k': 'kiwi', 'm': 'mango'}\n"
     ]
    }
   ],
   "source": [
    "def merge_dictionaries(first,second):\n",
    "    result = {**first_dict,**second_dict}\n",
    "    return result\n",
    "first_dict ={'a':'apple','b':'banana','o':'orange'}\n",
    "second_dict ={'k':'kiwi','m':'mango'}\n",
    "print(\"first dictionary:\", first_dict)\n",
    "print(\"second dictionary:\", second_dict)\n"
   ]
  },
  {
   "attachments": {},
   "cell_type": "markdown",
   "metadata": {},
   "source": [
    "Assignment:21"
   ]
  },
  {
   "cell_type": "code",
   "execution_count": 1,
   "metadata": {},
   "outputs": [
    {
     "name": "stdout",
     "output_type": "stream",
     "text": [
      "list index and values are\n",
      "index number =  0 and value = 10\n",
      "index number =  1 and value = 20\n",
      "index number =  2 and value = 30\n",
      "index number =  3 and value = 40\n",
      "index number =  4 and value = 50\n"
     ]
    }
   ],
   "source": [
    "orglist = [10,20,30,40,50]\n",
    "print(\"list index and values are\")\n",
    "for i in range(len(orglist)):\n",
    ";    print(\"index number = \",i,\"and value =\",orglist[i])"
   ]
  },
  {
   "attachments": {},
   "cell_type": "markdown",
   "metadata": {},
   "source": [
    "Assignment:22"
   ]
  },
  {
   "cell_type": "code",
   "execution_count": 29,
   "metadata": {},
   "outputs": [],
   "source": [
    "def add_two_numbers(n1,n2):\n",
    "    sum_of_numbers = n1+n2\n",
    "    print('sum:{0} + {1} = {2}'.format(n1,n2, sum_of_numbers))"
   ]
  },
  {
   "attachments": {},
   "cell_type": "markdown",
   "metadata": {},
   "source": [
    "Assignment:23"
   ]
  },
  {
   "cell_type": "code",
   "execution_count": 30,
   "metadata": {},
   "outputs": [
    {
     "name": "stdout",
     "output_type": "stream",
     "text": [
      "square root of 82 is:\n"
     ]
    }
   ],
   "source": [
    "import math\n",
    "print(\"square root of 82 is:\")"
   ]
  },
  {
   "attachments": {},
   "cell_type": "markdown",
   "metadata": {},
   "source": [
    "Assignment:24"
   ]
  },
  {
   "cell_type": "code",
   "execution_count": 32,
   "metadata": {},
   "outputs": [
    {
     "name": "stdout",
     "output_type": "stream",
     "text": [
      "the area of a triangle useing 15.0 and 15.0 = 112.5\n"
     ]
    }
   ],
   "source": [
    "base = float(input('please enter the base of a triangle:'))\n",
    "height = float(input('please enter the height of triangle:'))\n",
    "#calculate the area\n",
    "area = (base*height)/2\n",
    "print(\"the area of a triangle useing\",base,\"and\",height,\"=\",area)"
   ]
  },
  {
   "attachments": {},
   "cell_type": "markdown",
   "metadata": {},
   "source": [
    "Assignment:25\n"
   ]
  },
  {
   "cell_type": "code",
   "execution_count": 2,
   "metadata": {},
   "outputs": [
    {
     "name": "stdout",
     "output_type": "stream",
     "text": [
      "combing string with string:\n",
      " i likeprogramming\n"
     ]
    }
   ],
   "source": [
    "str1 = \"i like\"\n",
    "str2 = \"programming\"\n",
    "combinetext= str1+str2\n",
    "print(\"combing string with string:\\n\",combinetext)\n",
    "text=\"the price of the book is\"\n",
    "price=50"
   ]
  },
  {
   "attachments": {},
   "cell_type": "markdown",
   "metadata": {},
   "source": [
    "Assignment:26"
   ]
  },
  {
   "cell_type": "code",
   "execution_count": 3,
   "metadata": {},
   "outputs": [
    {
     "name": "stdout",
     "output_type": "stream",
     "text": [
      "khyati\n"
     ]
    }
   ],
   "source": [
    "data =[\"laxmi\",\"lata\",\"khyati\"]\n",
    "last_element_f = data[-1]\n",
    "print(last_element_f)"
   ]
  },
  {
   "attachments": {},
   "cell_type": "markdown",
   "metadata": {},
   "source": [
    "Assignment:27"
   ]
  },
  {
   "cell_type": "code",
   "execution_count": null,
   "metadata": {},
   "outputs": [],
   "source": [
    "import random\n",
    "list1=[10,20,30,40,50,60]\n",
    "print(\"the given list is:\",list1)\n",
    "random_index = random.randomrange(len(list1))\n",
    "print(\"random selected element is\",list1[random_index])"
   ]
  },
  {
   "attachments": {},
   "cell_type": "markdown",
   "metadata": {},
   "source": [
    "Assignment:28"
   ]
  },
  {
   "cell_type": "code",
   "execution_count": 33,
   "metadata": {},
   "outputs": [
    {
     "name": "stdout",
     "output_type": "stream",
     "text": [
      "simple_interest = 6.00\n"
     ]
    }
   ],
   "source": [
    "p = float(input(\"enter the principal amount:\"))\n",
    "t = float(input(\"enter the time in years:\"))\n",
    "r = float(input(\"enter the interest rate:\"))\n",
    "simple_interest =p*t*r/100\n",
    "print(\"simple_interest = %.2f\" %simple_interest)"
   ]
  },
  {
   "attachments": {},
   "cell_type": "markdown",
   "metadata": {},
   "source": [
    "Assignment:29"
   ]
  },
  {
   "cell_type": "code",
   "execution_count": null,
   "metadata": {},
   "outputs": [],
   "source": [
    "principle = float(input(\"enter the principle:\"))\n",
    "rate =float(input(\"enter the rate of interest:\"))\n",
    "time = float(input(\"enter the time:\"))\n",
    "amount = principle*(pow(1+rate/100), time)\n",
    "ci = amount-principle\n",
    "print(\"compound interest is\",round(ci,2))"
   ]
  },
  {
   "attachments": {},
   "cell_type": "markdown",
   "metadata": {},
   "source": [
    "Assignment:30"
   ]
  },
  {
   "cell_type": "code",
   "execution_count": 1,
   "metadata": {},
   "outputs": [
    {
     "name": "stdout",
     "output_type": "stream",
     "text": [
      "30\n",
      "32\n",
      "34\n",
      "36\n",
      "38\n",
      "40\n"
     ]
    }
   ],
   "source": [
    "lower_limit = int(input(\"enter the lower limit :\"))\n",
    "upper_limit = int(input(\"enter the upper limit:\"))\n",
    "for i in range(lower_limit,upper_limit+1):\n",
    "    if(i%2 ==  0):\n",
    "        print(i)"
   ]
  },
  {
   "attachments": {},
   "cell_type": "markdown",
   "metadata": {},
   "source": [
    "Assignment:31"
   ]
  },
  {
   "cell_type": "code",
   "execution_count": 2,
   "metadata": {},
   "outputs": [
    {
     "name": "stdout",
     "output_type": "stream",
     "text": [
      "sum of all element of an array is :45\n"
     ]
    }
   ],
   "source": [
    "arr = [1,2,3,4,5,6,7,8,9];\n",
    "sum = arr[0];\n",
    "for i in range(1,len(arr)):\n",
    "    sum = sum + arr[i];\n",
    "print(\"sum of all element of an array is :\"+str(sum));"
   ]
  },
  {
   "attachments": {},
   "cell_type": "markdown",
   "metadata": {},
   "source": [
    "Assignment:32"
   ]
  },
  {
   "cell_type": "code",
   "execution_count": 3,
   "metadata": {},
   "outputs": [
    {
     "name": "stdout",
     "output_type": "stream",
     "text": [
      "this is not\n"
     ]
    }
   ],
   "source": [
    "st = input(\"please enter your own text :\")\n",
    "if(st == st[::-1]):\n",
    "    print(\"this is a palindrome string\")\n",
    "else:\n",
    "    print(\"this is not\")"
   ]
  },
  {
   "attachments": {},
   "cell_type": "markdown",
   "metadata": {},
   "source": [
    "Assignment:33"
   ]
  },
  {
   "cell_type": "code",
   "execution_count": 4,
   "metadata": {},
   "outputs": [
    {
     "name": "stdout",
     "output_type": "stream",
     "text": [
      "convert  dict to list: [('b', 20), ('c', 10)]\n"
     ]
    }
   ],
   "source": [
    "my_dict ={\"b\":20,\"c\":10}\n",
    "con_lis = list(my_dict.items())\n",
    "print(\"convert  dict to list:\",con_lis)"
   ]
  },
  {
   "attachments": {},
   "cell_type": "markdown",
   "metadata": {},
   "source": [
    "Assignment:34"
   ]
  },
  {
   "cell_type": "code",
   "execution_count": 7,
   "metadata": {},
   "outputs": [
    {
     "name": "stdout",
     "output_type": "stream",
     "text": [
      "['u', 'o', 'i', 'e', 'a']\n"
     ]
    }
   ],
   "source": [
    "vowels = ['a', 'e', 'i', 'o', 'u']\n",
    "print(list(reversed(vowels)))\n",
    "\n",
    "    "
   ]
  },
  {
   "attachments": {},
   "cell_type": "markdown",
   "metadata": {},
   "source": [
    "Assignment:35"
   ]
  },
  {
   "cell_type": "code",
   "execution_count": 8,
   "metadata": {},
   "outputs": [
    {
     "name": "stdout",
     "output_type": "stream",
     "text": [
      "8\n",
      "81\n"
     ]
    }
   ],
   "source": [
    "def CalculatePower(N,X):\n",
    "  P=1\n",
    "  for i in range(1, X+1):\n",
    "    P=P*N\n",
    "  return P\n",
    " \n",
    "N,X=2,3\n",
    "print(CalculatePower(N,X))\n",
    "N,X=3,4\n",
    "print(CalculatePower(N,X))\n"
   ]
  },
  {
   "attachments": {},
   "cell_type": "markdown",
   "metadata": {},
   "source": [
    "Assignment:36"
   ]
  },
  {
   "cell_type": "code",
   "execution_count": 9,
   "metadata": {},
   "outputs": [
    {
     "name": "stdout",
     "output_type": "stream",
     "text": [
      "Number of digits: 4\n"
     ]
    }
   ],
   "source": [
    "num = 3452\n",
    "count = 0\n",
    "\n",
    "while num != 0:\n",
    "    num //= 10\n",
    "    count += 1\n",
    "\n",
    "print(\"Number of digits: \" + str(count))\n"
   ]
  },
  {
   "attachments": {},
   "cell_type": "markdown",
   "metadata": {},
   "source": [
    "Assignment:36"
   ]
  },
  {
   "cell_type": "code",
   "execution_count": 10,
   "metadata": {},
   "outputs": [
    {
     "name": "stdout",
     "output_type": "stream",
     "text": [
      "[2, 4, 5, 10, 20]\n"
     ]
    }
   ],
   "source": [
    "duplicate = [2, 4, 10, 20, 5, 2, 20, 4]\n",
    "print(list(set(duplicate)))\n"
   ]
  },
  {
   "attachments": {},
   "cell_type": "markdown",
   "metadata": {},
   "source": [
    "Assignment:37"
   ]
  },
  {
   "cell_type": "code",
   "execution_count": 11,
   "metadata": {},
   "outputs": [
    {
     "name": "stdout",
     "output_type": "stream",
     "text": [
      "   November 2017\n",
      "Mo Tu We Th Fr Sa Su\n",
      "       1  2  3  4  5\n",
      " 6  7  8  9 10 11 12\n",
      "13 14 15 16 17 18 19\n",
      "20 21 22 23 24 25 26\n",
      "27 28 29 30\n",
      "\n"
     ]
    }
   ],
   "source": [
    "# Python program to display calendar of\n",
    "# given month of the year\n",
    " \n",
    "# import module\n",
    "import calendar\n",
    " \n",
    "yy = 2017\n",
    "mm = 11\n",
    " \n",
    "# display the calendar\n",
    "print(calendar.month(yy, mm))"
   ]
  },
  {
   "attachments": {},
   "cell_type": "markdown",
   "metadata": {},
   "source": [
    "Assignment:38"
   ]
  },
  {
   "cell_type": "code",
   "execution_count": 13,
   "metadata": {},
   "outputs": [
    {
     "name": "stdout",
     "output_type": "stream",
     "text": [
      "34\n"
     ]
    }
   ],
   "source": [
    "list1 = [12, 3, 4, 15];s=0\n",
    "for i,a in enumerate(list1):\n",
    "  s+=a\n",
    "print(s)"
   ]
  },
  {
   "attachments": {},
   "cell_type": "markdown",
   "metadata": {},
   "source": [
    "Assignment:39"
   ]
  },
  {
   "cell_type": "code",
   "execution_count": 15,
   "metadata": {},
   "outputs": [
    {
     "name": "stdout",
     "output_type": "stream",
     "text": [
      "Urls:  ['https://auth.geeksforgeeks.org/user/Chinmoy%20Lenka/articles', 'https://www.geeksforgeeks.org/']\n"
     ]
    }
   ],
   "source": [
    "def Find(string):\n",
    "    x=string.split()\n",
    "    res=[]\n",
    "    for i in x:\n",
    "        if i.startswith(\"https:\") or i.startswith(\"http:\"):\n",
    "            res.append(i)\n",
    "    return res\n",
    "string = 'My Profile: https://auth.geeksforgeeks.org/user/Chinmoy%20Lenka/articles in the portal of https://www.geeksforgeeks.org/'\n",
    "print(\"Urls: \", Find(string))"
   ]
  },
  {
   "attachments": {},
   "cell_type": "markdown",
   "metadata": {},
   "source": [
    "Assignment:40"
   ]
  },
  {
   "cell_type": "code",
   "execution_count": 16,
   "metadata": {},
   "outputs": [
    {
     "name": "stdout",
     "output_type": "stream",
     "text": [
      "0.9833799087115209\n"
     ]
    }
   ],
   "source": [
    "import random\n",
    "num = random.random()\n",
    "print(num)"
   ]
  },
  {
   "attachments": {},
   "cell_type": "markdown",
   "metadata": {},
   "source": [
    "Assignment:41"
   ]
  },
  {
   "cell_type": "code",
   "execution_count": 17,
   "metadata": {},
   "outputs": [
    {
     "name": "stdout",
     "output_type": "stream",
     "text": [
      "1 The divisors of 100 are: \n",
      "2 The divisors of 100 are: \n",
      "The divisors of 100 are: \n",
      "4 The divisors of 100 are: \n",
      "5 The divisors of 100 are: \n",
      "The divisors of 100 are: \n",
      "The divisors of 100 are: \n",
      "The divisors of 100 are: \n",
      "The divisors of 100 are: \n",
      "10 The divisors of 100 are: \n",
      "The divisors of 100 are: \n",
      "The divisors of 100 are: \n",
      "The divisors of 100 are: \n",
      "The divisors of 100 are: \n",
      "The divisors of 100 are: \n",
      "The divisors of 100 are: \n",
      "The divisors of 100 are: \n",
      "The divisors of 100 are: \n",
      "The divisors of 100 are: \n",
      "20 The divisors of 100 are: \n",
      "The divisors of 100 are: \n",
      "The divisors of 100 are: \n",
      "The divisors of 100 are: \n",
      "The divisors of 100 are: \n",
      "25 The divisors of 100 are: \n",
      "The divisors of 100 are: \n",
      "The divisors of 100 are: \n",
      "The divisors of 100 are: \n",
      "The divisors of 100 are: \n",
      "The divisors of 100 are: \n",
      "The divisors of 100 are: \n",
      "The divisors of 100 are: \n",
      "The divisors of 100 are: \n",
      "The divisors of 100 are: \n",
      "The divisors of 100 are: \n",
      "The divisors of 100 are: \n",
      "The divisors of 100 are: \n",
      "The divisors of 100 are: \n",
      "The divisors of 100 are: \n",
      "The divisors of 100 are: \n",
      "The divisors of 100 are: \n",
      "The divisors of 100 are: \n",
      "The divisors of 100 are: \n",
      "The divisors of 100 are: \n",
      "The divisors of 100 are: \n",
      "The divisors of 100 are: \n",
      "The divisors of 100 are: \n",
      "The divisors of 100 are: \n",
      "The divisors of 100 are: \n",
      "50 The divisors of 100 are: \n",
      "The divisors of 100 are: \n",
      "The divisors of 100 are: \n",
      "The divisors of 100 are: \n",
      "The divisors of 100 are: \n",
      "The divisors of 100 are: \n",
      "The divisors of 100 are: \n",
      "The divisors of 100 are: \n",
      "The divisors of 100 are: \n",
      "The divisors of 100 are: \n",
      "The divisors of 100 are: \n",
      "The divisors of 100 are: \n",
      "The divisors of 100 are: \n",
      "The divisors of 100 are: \n",
      "The divisors of 100 are: \n",
      "The divisors of 100 are: \n",
      "The divisors of 100 are: \n",
      "The divisors of 100 are: \n",
      "The divisors of 100 are: \n",
      "The divisors of 100 are: \n",
      "The divisors of 100 are: \n",
      "The divisors of 100 are: \n",
      "The divisors of 100 are: \n",
      "The divisors of 100 are: \n",
      "The divisors of 100 are: \n",
      "The divisors of 100 are: \n",
      "The divisors of 100 are: \n",
      "The divisors of 100 are: \n",
      "The divisors of 100 are: \n",
      "The divisors of 100 are: \n",
      "The divisors of 100 are: \n",
      "The divisors of 100 are: \n",
      "The divisors of 100 are: \n",
      "The divisors of 100 are: \n",
      "The divisors of 100 are: \n",
      "The divisors of 100 are: \n",
      "The divisors of 100 are: \n",
      "The divisors of 100 are: \n",
      "The divisors of 100 are: \n",
      "The divisors of 100 are: \n",
      "The divisors of 100 are: \n",
      "The divisors of 100 are: \n",
      "The divisors of 100 are: \n",
      "The divisors of 100 are: \n",
      "The divisors of 100 are: \n",
      "The divisors of 100 are: \n",
      "The divisors of 100 are: \n",
      "The divisors of 100 are: \n",
      "The divisors of 100 are: \n",
      "The divisors of 100 are: \n",
      "100 The divisors of 100 are: \n"
     ]
    }
   ],
   "source": [
    "def printDivisors(n) :\n",
    "    i = 1\n",
    "    while i <= n :\n",
    "        if (n % i==0) :\n",
    "            print (i,end=\" \")\n",
    "        i = i + 1\n",
    "        print (\"The divisors of 100 are: \")\n",
    "printDivisors(100)"
   ]
  },
  {
   "attachments": {},
   "cell_type": "markdown",
   "metadata": {},
   "source": [
    "Assignment:42"
   ]
  },
  {
   "cell_type": "code",
   "execution_count": 18,
   "metadata": {},
   "outputs": [
    {
     "name": "stdout",
     "output_type": "stream",
     "text": [
      "0.9833799087115209 is not a prime number\n"
     ]
    }
   ],
   "source": [
    "if num > 1:\n",
    "    for i in range(2, int(num/2)+1):\n",
    "        if (num % i) == 0:\n",
    "            print(num, \"is not a prime number\")\n",
    "            break\n",
    "    else:\n",
    "        print(num, \"is a prime number\")\n",
    "else:\n",
    "    print(num, \"is not a prime number\")"
   ]
  },
  {
   "attachments": {},
   "cell_type": "markdown",
   "metadata": {},
   "source": [
    "Assignment:43"
   ]
  },
  {
   "cell_type": "code",
   "execution_count": 19,
   "metadata": {},
   "outputs": [
    {
     "name": "stdout",
     "output_type": "stream",
     "text": [
      "34\n"
     ]
    }
   ],
   "source": [
    "def fibonacci(n):\n",
    "    a = 0\n",
    "    b = 1\n",
    "    if n < 0:\n",
    "        print(\"Incorrect input\")\n",
    "    elif n == 0:\n",
    "        return 0\n",
    "    elif n == 1:\n",
    "        return b\n",
    "    else:\n",
    "        for i in range(1, n):\n",
    "            c = a + b\n",
    "            a = b\n",
    "            b = c\n",
    "        return b\n",
    "print(fibonacci(9))"
   ]
  },
  {
   "attachments": {},
   "cell_type": "markdown",
   "metadata": {},
   "source": [
    "Assignment:44"
   ]
  },
  {
   "cell_type": "code",
   "execution_count": 20,
   "metadata": {},
   "outputs": [
    {
     "name": "stdout",
     "output_type": "stream",
     "text": [
      "The original dictionary is : {'gfg': [7, 6, 3], 'is': [2, 10, 3], 'best': [19, 4]}\n",
      "The sorted dictionary : {'best': [4, 19], 'gfg': [3, 6, 7], 'is': [2, 3, 10]}\n"
     ]
    }
   ],
   "source": [
    "test_dict = {'gfg': [7, 6, 3],\n",
    "             'is': [2, 10, 3],\n",
    "             'best': [19, 4]}\n",
    "print(\"The original dictionary is : \" + str(test_dict))\n",
    "res = {key : sorted(test_dict[key]) for key in sorted(test_dict)}\n",
    "print(\"The sorted dictionary : \" + str(res))"
   ]
  },
  {
   "attachments": {},
   "cell_type": "markdown",
   "metadata": {},
   "source": [
    "Assignment:45"
   ]
  },
  {
   "cell_type": "code",
   "execution_count": 21,
   "metadata": {},
   "outputs": [
    {
     "name": "stdout",
     "output_type": "stream",
     "text": [
      "Size of Tuple1: 72bytes\n",
      "Size of Tuple2: 72bytes\n",
      "Size of Tuple3: 56bytes\n"
     ]
    }
   ],
   "source": [
    "\n",
    "Tuple1 = (\"A\", 1, \"B\", 2, \"C\", 3)\n",
    "Tuple2 = (\"Geek1\", \"Raju\", \"Geek2\", \"Nikhil\", \"Geek3\", \"Deepanshu\")\n",
    "Tuple3 = ((1, \"Lion\"), ( 2, \"Tiger\"), (3, \"Fox\"), (4, \"Wolf\"))\n",
    "print(\"Size of Tuple1: \" + str(Tuple1.__sizeof__()) + \"bytes\")\n",
    "print(\"Size of Tuple2: \" + str(Tuple2.__sizeof__()) + \"bytes\")\n",
    "print(\"Size of Tuple3: \" + str(Tuple3.__sizeof__()) + \"bytes\")"
   ]
  },
  {
   "attachments": {},
   "cell_type": "markdown",
   "metadata": {},
   "source": [
    "Assignment:46"
   ]
  },
  {
   "cell_type": "code",
   "execution_count": 22,
   "metadata": {},
   "outputs": [
    {
     "name": "stdout",
     "output_type": "stream",
     "text": [
      "[(1, 1), (2, 8), (5, 125), (6, 216)]\n"
     ]
    }
   ],
   "source": [
    "list1 = [1, 2, 5, 6]\n",
    "res = [(val, val**3) for val in list1]\n",
    "print(res)"
   ]
  },
  {
   "attachments": {},
   "cell_type": "markdown",
   "metadata": {},
   "source": [
    "Assignment:47"
   ]
  },
  {
   "cell_type": "code",
   "execution_count": 24,
   "metadata": {},
   "outputs": [
    {
     "name": "stdout",
     "output_type": "stream",
     "text": [
      "The list is : [(4, 62), (2, 65), (5, 9), (0, 1)]\n",
      "Unique digits of the set : {0, 1, 2, 4, 5, 6, 9}\n"
     ]
    }
   ],
   "source": [
    "from itertools import chain\n",
    "myList = [(4, 62), (2, 65), (5, 9), (0,1)]\n",
    "print(\"The list is : \" + str(myList))\n",
    "valMap = map(lambda ele: str(ele), chain.from_iterable(myList))\n",
    "uniqueDigits = set()\n",
    "for values in valMap:\n",
    "\tfor digits in values:\n",
    "\t\tuniqueDigits.add(int(digits))\n",
    "print(\"Unique digits of the set : \" + str(uniqueDigits))\n"
   ]
  },
  {
   "attachments": {},
   "cell_type": "markdown",
   "metadata": {},
   "source": [
    "Assignment:48"
   ]
  },
  {
   "cell_type": "code",
   "execution_count": 25,
   "metadata": {},
   "outputs": [
    {
     "name": "stdout",
     "output_type": "stream",
     "text": [
      "The original list is:\n",
      "[1, 2, 3, 4, 5, 6, 7, 8, 9]\n",
      "List after deleting all the elements: []\n"
     ]
    }
   ],
   "source": [
    "myList = [1, 2, 3, 4, 5, 6, 7, 8, 9]\n",
    "print(\"The original list is:\")\n",
    "print(myList)\n",
    "while myList:\n",
    "    myList.pop()\n",
    "print(\"List after deleting all the elements:\",myList)\n"
   ]
  },
  {
   "attachments": {},
   "cell_type": "markdown",
   "metadata": {},
   "source": [
    "Assignment:49"
   ]
  },
  {
   "cell_type": "code",
   "execution_count": 1,
   "metadata": {},
   "outputs": [
    {
     "name": "stdout",
     "output_type": "stream",
     "text": [
      "15900\n"
     ]
    }
   ],
   "source": [
    "\n",
    "def computesalary(basic,grade):\n",
    "    hra = 0.2*basic\n",
    "    da = 0.3*basic\n",
    "    pf = 0.10*basic\n",
    "    if grade =='a':\n",
    "        allowance = 1900.0\n",
    "    elif grade =='b':\n",
    "        allowance = 1400.0\n",
    "\n",
    "    gross = round(basic + hra + da + allowance - pf)\n",
    "    return gross\n",
    "if __name__=='__main__':\n",
    "    basic = 10000\n",
    "    grade = 'a'\n",
    "    print(computesalary(basic,grade));"
   ]
  },
  {
   "attachments": {},
   "cell_type": "markdown",
   "metadata": {},
   "source": [
    "Assignment:50"
   ]
  },
  {
   "cell_type": "code",
   "execution_count": 3,
   "metadata": {},
   "outputs": [
    {
     "name": "stdout",
     "output_type": "stream",
     "text": [
      "average of the list = 9.17\n"
     ]
    }
   ],
   "source": [
    "def average(list):\n",
    "    return sum(lst) / len(lst)\n",
    "lst = [15,6,7,8,9,10]\n",
    "average = average(lst)\n",
    "print(\"average of the list =\",round(average,2))"
   ]
  },
  {
   "attachments": {},
   "cell_type": "markdown",
   "metadata": {},
   "source": [
    "Student enroll"
   ]
  },
  {
   "cell_type": "code",
   "execution_count": null,
   "metadata": {},
   "outputs": [],
   "source": [
    "students = int(input(\"please enter the amount of students registered.\"))\n",
    "id_number =\"\"\n",
    "\n",
    "for a in range (0,students):\n",
    "    id_number = (int(input(\"please enter student id numbers.\")))\n",
    "    id_number = id_number + 1\n",
    "    with open('student.txt','w')as file:\n",
    "        file.write(\"student id numbers:\\n\"+ str(id_number))\n",
    "print(\"thank you,id numbers saved to txt file reg_form \")"
   ]
  },
  {
   "cell_type": "code",
   "execution_count": 6,
   "metadata": {},
   "outputs": [
    {
     "name": "stdout",
     "output_type": "stream",
     "text": [
      "beta\n",
      "gyama\n"
     ]
    }
   ],
   "source": [
    "mytuple=(\"alpha\",\"beta\",\"gyama\")\n",
    "mytuple=iter(mytuple)\n",
    "next(mytuple)\n",
    "print(next(mytuple))\n",
    "print(next(mytuple))\n"
   ]
  },
  {
   "cell_type": "code",
   "execution_count": 7,
   "metadata": {},
   "outputs": [
    {
     "data": {
      "text/plain": [
       "'p'"
      ]
     },
     "execution_count": 7,
     "metadata": {},
     "output_type": "execute_result"
    }
   ],
   "source": [
    "string=\"python\"\n",
    "iter=iter(string)\n",
    "next(iter)"
   ]
  },
  {
   "cell_type": "code",
   "execution_count": null,
   "metadata": {},
   "outputs": [],
   "source": [
    "string=\"apple\"\n",
    "iter=iter(string)\n",
    "next(iter)\n",
    "for i in iter:\n",
    "    if i==a or i==p:\n",
    "        print(\"skipped,a\")\n",
    "\n",
    "\n",
    " \n",
    "    "
   ]
  },
  {
   "cell_type": "code",
   "execution_count": 2,
   "metadata": {},
   "outputs": [],
   "source": [
    "d={\"programming\":\"python\",0:\"zero value\"}\n",
    "j=0\n",
    "for i in d:\n",
    "    if j==1:\n",
    "        print(i)\n",
    "        j=j+1\n"
   ]
  },
  {
   "cell_type": "code",
   "execution_count": 1,
   "metadata": {},
   "outputs": [
    {
     "name": "stdout",
     "output_type": "stream",
     "text": [
      "a\n",
      "b\n",
      "c\n",
      "[' a\\n', '  b\\n', '  c\\n', ' ']\n"
     ]
    }
   ],
   "source": [
    "names=['a','b','c']\n",
    "for i in names:\n",
    "    print(i)\n",
    "\n",
    "\n",
    "\n",
    "#1st code\n",
    "fd=open(r\"a.txt\",\"w\")\n",
    "for i in names:\n",
    "    i=str(\" \") + i + str(\"\\n \")\n",
    "    val=fd.writelines(i)\n",
    "fd.close()\n",
    "\n",
    "#2nd code\n",
    "fd=open(r\"a.txt\",\"r\")\n",
    "file_data=fd.readlines()\n",
    "print(file_data)\n",
    "fd.close()"
   ]
  },
  {
   "cell_type": "code",
   "execution_count": 7,
   "metadata": {},
   "outputs": [
    {
     "name": "stdout",
     "output_type": "stream",
     "text": [
      "8\n"
     ]
    },
    {
     "data": {
      "text/plain": [
       "<function TextIOWrapper.close()>"
      ]
     },
     "execution_count": 7,
     "metadata": {},
     "output_type": "execute_result"
    }
   ],
   "source": [
    "file_object=open(\"file.txt\",\"w\")\n",
    "print(file_object.write(\"hi there\"))\n",
    "file_object.close"
   ]
  },
  {
   "cell_type": "code",
   "execution_count": null,
   "metadata": {},
   "outputs": [],
   "source": [
    "print(\"value:%2d,portal: %5.2i\"%(1,05.333))\n",
    "print(\"totle students:%3d,boys:%2d\"%(240,120))\n",
    "print(\"%7.30\"%(25))\n",
    "print(\"%10.3e\"%(356.08977))"
   ]
  }
 ],
 "metadata": {
  "kernelspec": {
   "display_name": "Python 3",
   "language": "python",
   "name": "python3"
  },
  "language_info": {
   "codemirror_mode": {
    "name": "ipython",
    "version": 3
   },
   "file_extension": ".py",
   "mimetype": "text/x-python",
   "name": "python",
   "nbconvert_exporter": "python",
   "pygments_lexer": "ipython3",
   "version": "3.11.2"
  },
  "orig_nbformat": 4
 },
 "nbformat": 4,
 "nbformat_minor": 2
}
