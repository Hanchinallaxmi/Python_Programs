{
 "cells": [
  {
   "attachments": {},
   "cell_type": "markdown",
   "metadata": {},
   "source": [
    "ACCESSING INDEX"
   ]
  },
  {
   "cell_type": "code",
   "execution_count": 9,
   "metadata": {},
   "outputs": [
    {
     "name": "stdout",
     "output_type": "stream",
     "text": [
      "<class 'str'>\n",
      "<class 'str'>\n"
     ]
    }
   ],
   "source": [
    "name = \"laxmi\"  # \"\" it is string\n",
    "age = '18'   # '' it is also type of string\n",
    "print(type (age))  # checking which type data it is\n",
    "print(type(name))  # type we can use checking data\n"
   ]
  },
  {
   "cell_type": "code",
   "execution_count": 10,
   "metadata": {},
   "outputs": [
    {
     "name": "stdout",
     "output_type": "stream",
     "text": [
      "x\n"
     ]
    }
   ],
   "source": [
    "name = \"laxmi\"\n",
    "age = \"18\"\n",
    "print(name[2]) # number 2 is decide index level like l index is 0, a index is 1,x index is 2,thats why the 2 print x letter"
   ]
  },
  {
   "cell_type": "code",
   "execution_count": 11,
   "metadata": {},
   "outputs": [
    {
     "name": "stdout",
     "output_type": "stream",
     "text": [
      "nch\n"
     ]
    }
   ],
   "source": [
    "name = 'sanchita'\n",
    "print(name[2:5]) # 2:5 is decide range of index it will print 2:5 elemnt of the index\n"
   ]
  },
  {
   "cell_type": "code",
   "execution_count": 12,
   "metadata": {},
   "outputs": [
    {
     "name": "stdout",
     "output_type": "stream",
     "text": [
      "lxi\n"
     ]
    }
   ],
   "source": [
    "name = 'laxmi'\n",
    "print(name[0::2]) # here it will skipped 2 elements bcz we can use :: this one \"start:end:skip\""
   ]
  },
  {
   "cell_type": "code",
   "execution_count": 16,
   "metadata": {},
   "outputs": [
    {
     "name": "stdout",
     "output_type": "stream",
     "text": [
      "sssssssaaaaaaannn\n"
     ]
    }
   ],
   "source": [
    "name = \"sssssssaaaaaaannnnnnnaaaaaa\"\n",
    "print(name[0:17:1]) # start:end:skip"
   ]
  },
  {
   "cell_type": "code",
   "execution_count": 18,
   "metadata": {},
   "outputs": [
    {
     "name": "stdout",
     "output_type": "stream",
     "text": [
      "i\n"
     ]
    }
   ],
   "source": [
    "name = 'laxmi'\n",
    "print(name[-1]) # backword to accesing elements use -1,-2,-3,-4,-5 etc"
   ]
  },
  {
   "cell_type": "code",
   "execution_count": 22,
   "metadata": {},
   "outputs": [
    {
     "name": "stdout",
     "output_type": "stream",
     "text": [
      "i\n"
     ]
    }
   ],
   "source": [
    "name = \"laxmi\"\n",
    "print(name [-1:-3:-2])"
   ]
  },
  {
   "attachments": {},
   "cell_type": "markdown",
   "metadata": {},
   "source": [
    "BASIC OF INPUT AND OUTPUT"
   ]
  },
  {
   "cell_type": "code",
   "execution_count": 2,
   "metadata": {},
   "outputs": [
    {
     "name": "stdout",
     "output_type": "stream",
     "text": [
      "my name is laxmi\n",
      "<class 'str'>\n"
     ]
    }
   ],
   "source": [
    "print(\"my name is laxmi\") #input\n",
    "name = input(\"what is your name\")\n",
    "print(type(name))"
   ]
  },
  {
   "cell_type": "code",
   "execution_count": 1,
   "metadata": {},
   "outputs": [
    {
     "name": "stdout",
     "output_type": "stream",
     "text": [
      "good morning\n"
     ]
    }
   ],
   "source": [
    "name = input(\"what is your name\")\n",
    "print(\"good morning\")\n"
   ]
  },
  {
   "cell_type": "code",
   "execution_count": 2,
   "metadata": {},
   "outputs": [
    {
     "name": "stdout",
     "output_type": "stream",
     "text": [
      "good morninglaxmi\n"
     ]
    }
   ],
   "source": [
    "name = input(\"what is your name\")\n",
    "print(f\"good morning{name}\") "
   ]
  },
  {
   "cell_type": "code",
   "execution_count": 4,
   "metadata": {},
   "outputs": [
    {
     "name": "stdout",
     "output_type": "stream",
     "text": [
      "good morninglaxmi\n",
      "simple calculator\n",
      "400\n"
     ]
    }
   ],
   "source": [
    "name = input(\"what is your name\")\n",
    "print(\"good morning{name}\") \n",
    "print(\"simple calculator\")\n",
    "a = int(input(\" a >> \")) # calculation part we can use int(input(\"\"))\n",
    "b = int(input(\" b >> \"))\n",
    "print(a *b)\n"
   ]
  },
  {
   "attachments": {},
   "cell_type": "markdown",
   "metadata": {},
   "source": [
    "PYTHON BOOLEANS (true or false)"
   ]
  },
  {
   "cell_type": "code",
   "execution_count": null,
   "metadata": {},
   "outputs": [],
   "source": []
  }
 ],
 "metadata": {
  "kernelspec": {
   "display_name": "Python 3",
   "language": "python",
   "name": "python3"
  },
  "language_info": {
   "codemirror_mode": {
    "name": "ipython",
    "version": 3
   },
   "file_extension": ".py",
   "mimetype": "text/x-python",
   "name": "python",
   "nbconvert_exporter": "python",
   "pygments_lexer": "ipython3",
   "version": "3.11.2"
  },
  "orig_nbformat": 4
 },
 "nbformat": 4,
 "nbformat_minor": 2
}
