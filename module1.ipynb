{
 "cells": [
  {
   "cell_type": "code",
   "execution_count": 12,
   "metadata": {},
   "outputs": [
    {
     "name": "stdout",
     "output_type": "stream",
     "text": [
      "16 is even\n"
     ]
    }
   ],
   "source": [
    "num = int(input(\"enter a number:\"))\n",
    "if (num % 4) == 0:\n",
    "    print(\"{0} is even\".format(num))\n",
    "else:\n",
    "    print(\"{0} is odd\".format(num))"
   ]
  },
  {
   "cell_type": "code",
   "execution_count": 2,
   "metadata": {},
   "outputs": [
    {
     "name": "stdout",
     "output_type": "stream",
     "text": [
      "Original key list is : ['Rash', 'Kil', 'Varsha']\n",
      "Original value list is : [1, 4, 5]\n",
      "Resultant dictionary is : {'Rash': 1, 'Kil': 4, 'Varsha': 5}\n"
     ]
    }
   ],
   "source": [
    "keys = [\"Rash\", \"Kil\", \"Varsha\"]\n",
    "values = [1, 4, 5]\n",
    "print (\"Original key list is : \" + str(keys))\n",
    "print (\"Original value list is : \" + str(values))\n",
    "\n",
    "res = dict(map(lambda i,j : (i,j) , keys,values))\n",
    " \n",
    "print (\"Resultant dictionary is : \" + str(res))"
   ]
  },
  {
   "cell_type": "code",
   "execution_count": 7,
   "metadata": {},
   "outputs": [
    {
     "name": "stdout",
     "output_type": "stream",
     "text": [
      "The principal is 7500\n",
      "The time period is 2\n",
      "The rate of interest is 15\n",
      "The Simple Interest is 2250.0\n"
     ]
    }
   ],
   "source": [
    "def simple_interest(p,t,r):\n",
    "    print('The principal is', p)\n",
    "    print('The time period is', t)\n",
    "    print('The rate of interest is',r)\n",
    "    si = (p * t * r)/100\n",
    "\n",
    "    print('The Simple Interest is', si)\n",
    "\n",
    "P = int(input(\"Enter the principal amount :\"))\n",
    "T = int(input(\"Enter the time period :\"))\n",
    "R = int(input(\"Enter the rate of interest :\"))\n",
    "simple_interest(P,T,R)\n"
   ]
  },
  {
   "cell_type": "code",
   "execution_count": 1,
   "metadata": {},
   "outputs": [
    {
     "name": "stdout",
     "output_type": "stream",
     "text": [
      "11 is a prime number\n",
      "11 is a prime number\n",
      "11 is a prime number\n",
      "11 is a prime number\n"
     ]
    }
   ],
   "source": [
    "num = 11\n",
    "if num >1:\n",
    "    for i in range(2,int(num/2)+1):\n",
    "        if (num%i) ==0:\n",
    "            print(\"num is not a prime number\" )\n",
    "            break\n",
    "        else:\n",
    "            print(num ,\"is a prime number\")\n",
    "else:\n",
    "    print(num , \"is not a prime numbers\")"
   ]
  },
  {
   "cell_type": "code",
   "execution_count": 2,
   "metadata": {},
   "outputs": [
    {
     "name": "stdout",
     "output_type": "stream",
     "text": [
      "[1, 2, 3, 4, 33, 11, 44, 22]\n"
     ]
    }
   ],
   "source": [
    "x = [1,2,3,4]\n",
    "y = [1,11,22,33,44,3,4]\n",
    "res = list(set(x+y))\n",
    "print(res)"
   ]
  },
  {
   "cell_type": "code",
   "execution_count": 5,
   "metadata": {},
   "outputs": [
    {
     "name": "stdout",
     "output_type": "stream",
     "text": [
      "matrix= [[1, 2, 3, 4], [5, 6, 7, 8], [9, 10, 11, 12]]\n"
     ]
    }
   ],
   "source": [
    "matrix = [[1,2,3,4],\n",
    "          [5,6,7,8],\n",
    "          [9,10,11,12]]\n",
    "print(\"matrix=\",matrix)"
   ]
  },
  {
   "cell_type": "code",
   "execution_count": 6,
   "metadata": {},
   "outputs": [
    {
     "name": "stdout",
     "output_type": "stream",
     "text": [
      "the principal is 7500\n",
      "the time period is 2\n",
      "the rate of interest is 15\n",
      "the simple interest is 0\n"
     ]
    }
   ],
   "source": [
    "def simple_interest(p,t,r):\n",
    "    print('the principal is',p)\n",
    "    print('the time period is',t)\n",
    "    print('the rate of interest is',r)\n",
    "    si =(p*t*r)%100\n",
    "    print('the simple interest is',si)\n",
    "p = int(input(\"enter the principal amount:\"))\n",
    "t =int(input(\"enter the time period:\"))\n",
    "r =int(input(\"enter the rate of interest:\"))\n",
    "simple_interest(p,t,r)\n",
    "    "
   ]
  }
 ],
 "metadata": {
  "kernelspec": {
   "display_name": "Python 3",
   "language": "python",
   "name": "python3"
  },
  "language_info": {
   "codemirror_mode": {
    "name": "ipython",
    "version": 3
   },
   "file_extension": ".py",
   "mimetype": "text/x-python",
   "name": "python",
   "nbconvert_exporter": "python",
   "pygments_lexer": "ipython3",
   "version": "3.11.2"
  },
  "orig_nbformat": 4
 },
 "nbformat": 4,
 "nbformat_minor": 2
}
